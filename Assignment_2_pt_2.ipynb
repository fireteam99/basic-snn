{
 "cells": [
  {
   "cell_type": "code",
   "execution_count": 1,
   "metadata": {},
   "outputs": [
    {
     "name": "stdout",
     "output_type": "stream",
     "text": [
      "Requirement already up-to-date: scikit-learn in c:\\users\\mzig2\\anaconda3\\lib\\site-packages (0.23.2)\n",
      "Requirement already satisfied, skipping upgrade: scipy>=0.19.1 in c:\\users\\mzig2\\anaconda3\\lib\\site-packages (from scikit-learn) (1.3.1)\n",
      "Requirement already satisfied, skipping upgrade: numpy>=1.13.3 in c:\\users\\mzig2\\anaconda3\\lib\\site-packages (from scikit-learn) (1.17.4)\n",
      "Requirement already satisfied, skipping upgrade: joblib>=0.11 in c:\\users\\mzig2\\anaconda3\\lib\\site-packages (from scikit-learn) (0.14.0)\n",
      "Requirement already satisfied, skipping upgrade: threadpoolctl>=2.0.0 in c:\\users\\mzig2\\anaconda3\\lib\\site-packages (from scikit-learn) (2.1.0)\n",
      "Note: you may need to restart the kernel to use updated packages.\n"
     ]
    }
   ],
   "source": [
    "pip install -U scikit-learn"
   ]
  },
  {
   "cell_type": "code",
   "execution_count": 2,
   "metadata": {},
   "outputs": [
    {
     "name": "stdout",
     "output_type": "stream",
     "text": [
      "Requirement already satisfied: ipynb in c:\\users\\mzig2\\anaconda3\\lib\\site-packages (0.5.1)\n",
      "Note: you may need to restart the kernel to use updated packages.\n"
     ]
    }
   ],
   "source": [
    "pip install ipynb"
   ]
  },
  {
   "cell_type": "code",
   "execution_count": 3,
   "metadata": {},
   "outputs": [
    {
     "name": "stdout",
     "output_type": "stream",
     "text": [
      "Requirement already satisfied: import_ipynb in c:\\users\\mzig2\\anaconda3\\lib\\site-packages (0.1.3)\n",
      "Note: you may need to restart the kernel to use updated packages.\n"
     ]
    }
   ],
   "source": [
    "pip install import_ipynb"
   ]
  },
  {
   "cell_type": "code",
   "execution_count": 4,
   "metadata": {},
   "outputs": [],
   "source": [
    "import numpy as np\n",
    "import matplotlib.pyplot as plt\n",
    "\n",
    "plt.style.use('ggplot')"
   ]
  },
  {
   "cell_type": "markdown",
   "metadata": {},
   "source": [
    "## Data Management"
   ]
  },
  {
   "cell_type": "code",
   "execution_count": 5,
   "metadata": {},
   "outputs": [
    {
     "data": {
      "image/png": "[encoded data removed]",
      "text/plain": [
       "<Figure size 288x288 with 1 Axes>"
      ]
     },
     "metadata": {},
     "output_type": "display_data"
    }
   ],
   "source": [
    "from sklearn.datasets import load_digits\n",
    " \n",
    "digits = load_digits()\n",
    "import matplotlib.pyplot as plt \n",
    "plt.matshow(digits.images[0]) \n",
    "plt.show()"
   ]
  },
  {
   "cell_type": "code",
   "execution_count": 6,
   "metadata": {},
   "outputs": [
    {
     "name": "stdout",
     "output_type": "stream",
     "text": [
      "Numbers to train: 1437\n",
      "Numbers to test: 180\n",
      "Numbers to validate: 180\n"
     ]
    }
   ],
   "source": [
    "#flattening to 1D arrays\n",
    "#partitioning to training set, testing set, validation set\n",
    "from sklearn.model_selection import train_test_split\n",
    "X_train, X_other, y_train, y_other = train_test_split(digits.data, digits.images, test_size=0.2, shuffle=False)\n",
    "X_test, X_val, y_test, y_val = train_test_split(X_other, y_other, test_size=0.5, shuffle=False)\n",
    "print(\"Numbers to train: \" + str(len(X_train)))\n",
    "print(\"Numbers to test: \" + str(len(X_test)))\n",
    "print(\"Numbers to validate: \" + str(len(X_val)))"
   ]
  },
  {
   "cell_type": "markdown",
   "metadata": {},
   "source": [
    "### Test set starts after training set in partition\n",
    "### Validation set starts after test set"
   ]
  },
  {
   "cell_type": "code",
   "execution_count": 7,
   "metadata": {},
   "outputs": [
    {
     "name": "stdout",
     "output_type": "stream",
     "text": [
      "6\n"
     ]
    },
    {
     "data": {
      "image/png": "[encoded data removed]",
      "text/plain": [
       "<Figure size 288x288 with 1 Axes>"
      ]
     },
     "metadata": {},
     "output_type": "display_data"
    }
   ],
   "source": [
    "i=36\n",
    "plt.matshow(X_test[i].reshape(8,8))\n",
    "print(digits.target[len(X_train)+i])"
   ]
  },
  {
   "cell_type": "markdown",
   "metadata": {},
   "source": [
    "## Poisson Encoding"
   ]
  },
  {
   "cell_type": "markdown",
   "metadata": {},
   "source": [
    "### 2.2.d)\n",
    "\n",
    "For this modified SNN, we decided to employ a Poisson Encoding scheme in order to generate a spike train representation for each of our images. Citing this paper https://arxiv.org/ftp/arxiv/papers/1604/1604.06751.pdf, our algorithm for doing so was as follows:\n",
    "\n",
    "- normalize all r rate (pixel intensity) values to be between 0 and 1\n",
    "- generate M uniform random numbers between 0 and 1 where M is equal to the number of bins of time we're examining spiking   activity (since dT = 1, M will be equal to the size of the array)\n",
    "- for all i in M random numbers in rand, if r[i] > rand[i], generate 1 spike\n",
    "\n",
    "After executing this process, 3 arrays will be returned of size M: one containing the normalized pixel intensities of each bin, one containing their binary spike values, and one consisting of the maximum amount of intensity at each index where a spike occurs for plotting purposes."
   ]
  },
  {
   "cell_type": "code",
   "execution_count": 8,
   "metadata": {},
   "outputs": [],
   "source": [
    "def poissonEncoding(rates):\n",
    "    \"\"\"\n",
    "    Transforms a 1D array of inputs representing an image into spike train representation utilizing Poisson method of\n",
    "    encoding\n",
    "    \n",
    "    Params:\n",
    "        rates: 1D array of inputs (in this case, pixel intensitiies corresponding to our image)\n",
    "    Returns:\n",
    "        n_rates: Normalized set of input pixel values (represents probabilities of a spike occurring at each dT)\n",
    "        bin_spikes: 1D array of binary values representing timesteps in which spikes occur\n",
    "        p_spikes: 1D array representing pixel intensities of spike train representation for plotting/computation purposes\n",
    "        \n",
    "    \"\"\"\n",
    "    dT = 1\n",
    "    \n",
    "    max = np.amax(rates)\n",
    "    n_rates = (rates*dT)/max\n",
    "    \n",
    "    rand = np.random.uniform(0,1, len(rates))\n",
    "    bin_spikes = np.zeros(len(rates))\n",
    "    pix_spikes = np.zeros(len(rates))\n",
    "    \n",
    "    for i in range(len(rates)):\n",
    "        if n_rates[i] > rand[i]:\n",
    "            bin_spikes[i] = 1\n",
    "            pix_spikes[i] = max\n",
    "                    \n",
    "    return n_rates, bin_spikes, pix_spikes\n",
    "    "
   ]
  },
  {
   "cell_type": "code",
   "execution_count": 9,
   "metadata": {},
   "outputs": [
    {
     "name": "stdout",
     "output_type": "stream",
     "text": [
      "0\n"
     ]
    },
    {
     "data": {
      "image/png": "[encoded data removed]",
      "text/plain": [
       "<Figure size 288x288 with 1 Axes>"
      ]
     },
     "metadata": {},
     "output_type": "display_data"
    },
    {
     "data": {
      "image/png": "[encoded data removed]",
      "text/plain": [
       "<Figure size 288x288 with 1 Axes>"
      ]
     },
     "metadata": {},
     "output_type": "display_data"
    },
    {
     "data": {
      "text/plain": [
       "1797"
      ]
     },
     "execution_count": 9,
     "metadata": {},
     "output_type": "execute_result"
    }
   ],
   "source": [
    "plt.matshow(np.reshape(X_train[0], (8,8))) \n",
    "print(digits.target[0])\n",
    "n, b, p = poissonEncoding(X_train[0])\n",
    "plt.matshow(p.reshape(8,8))\n",
    "plt.show()\n",
    "\n",
    "len(digits.images)"
   ]
  },
  {
   "cell_type": "markdown",
   "metadata": {},
   "source": [
    " ## Network Functions"
   ]
  },
  {
   "cell_type": "code",
   "execution_count": 10,
   "metadata": {},
   "outputs": [],
   "source": [
    "def train(X, Y, val, l_rt, init, epochs):\n",
    "    \n",
    "    weights = init\n",
    "    \n",
    "    for i in range(epochs):\n",
    "        \n",
    "        print(\"epoch: \", i)\n",
    "        print(\"training......\")\n",
    "        for x in range(len(X)):\n",
    "            \n",
    "            true_index = digits.target[x]\n",
    "            #print(\"index: \", x, \" true index: \", true_index)\n",
    "            in_neurons = X[x]\n",
    "            out_neurons = Y[x]\n",
    "            \n",
    "            X_n_rts, X_bins, X_pixs = poissonEncoding(in_neurons)\n",
    "                        \n",
    "            weight_adjs = np.zeros((len(in_neurons),10))\n",
    "            \n",
    "            y_out  = np.zeros((10,len(in_neurons)))\n",
    "            y_out[true_index] = out_neurons.flatten()\n",
    "                        \n",
    "            for pix in range(len(in_neurons)):\n",
    "                for digit in range(10):\n",
    "                   weight_adjs[pix][digit] = l_rt*X_bins[pix]*y_out[digit][pix]\n",
    "                \n",
    "            weights = weights + weight_adjs\n",
    "            \n",
    "            if (i == 0) and (x % 250 == 0):\n",
    "                print(\"********************\")\n",
    "                print(\"validating after \",x,\"th image:\")\n",
    "                validate(X,val,weights.T,0,len(X_train)+len(X_test))\n",
    "                \n",
    "        print(\"weights after epoch \", i,\": \", weights, \"\\n\")\n",
    "        validate(X, val, weights.T, 0, len(X_train)+len(X_test))\n",
    "        print(\"------------------------------\")\n",
    "        \n",
    "        \n",
    "    return weights.T\n",
    "\n",
    "\n",
    "def validate(train, val, weights, ind_train, ind_val):\n",
    "    \n",
    "    train_correct = 0\n",
    "    val_correct = 0\n",
    "    \n",
    "    for i in range(len(train)):\n",
    "        prediction = _predict(train[i], weights)\n",
    "        if prediction == digits.target[ind_train+i]:\n",
    "            train_correct+=1\n",
    "    train_accuracy = train_correct/len(train)\n",
    "    print(\"training accuracy: \", train_accuracy)\n",
    "    \n",
    "    for j in range(len(val)):\n",
    "        prediction = _predict(val[j], weights)\n",
    "        if prediction == digits.target[ind_val+j]:\n",
    "            val_correct+=1\n",
    "    val_accuracy = val_correct/len(val)\n",
    "    print(\"validation accuracy: \", val_accuracy)\n",
    "    \n",
    "    print(\"total accuracy: \", (train_correct+val_correct)/(len(train)+len(val)))\n",
    "    \n",
    "        \n",
    "\n",
    "def predict(test, weights, targ):\n",
    "    \n",
    "    print(\"image value: \", targ)\n",
    "    \n",
    "    n, spikes, p = poissonEncoding(test)\n",
    "    outs = np.zeros(len(weights))\n",
    "    for i in range(len(weights)):\n",
    "        outs[i] = np.dot(spikes, weights[i])\n",
    "    \n",
    "    prediction = np.argmax(outs)\n",
    "    \n",
    "    print(\"predicted value: \", prediction)\n",
    "    \n",
    "    if (prediction == targ):\n",
    "        return True\n",
    "    else:\n",
    "        return False\n",
    "    \n",
    "def _predict(test, weights):\n",
    "    \n",
    "    n, spikes, p = poissonEncoding(test)\n",
    "    outs = np.zeros(len(weights))\n",
    "    \n",
    "    for i in range(len(weights)):\n",
    "        outs[i] = np.dot(spikes, weights[i])\n",
    "    \n",
    "    return np.argmax(outs)\n",
    "    \n",
    "def sim(test, weights, ind_targ):\n",
    "    \n",
    "    correct = 0\n",
    "    \n",
    "    for i in range(len(test)):\n",
    "        \n",
    "        x = predict(test[i], weights, digits.target[ind_targ+i])\n",
    "        \n",
    "        print(\"prediction correct: \", x)\n",
    "        print(\"------------------------------\")\n",
    "        \n",
    "        if x:\n",
    "            correct += 1\n",
    "            \n",
    "    return correct/len(test) \n"
   ]
  },
  {
   "cell_type": "markdown",
   "metadata": {},
   "source": [
    "## Training"
   ]
  },
  {
   "cell_type": "code",
   "execution_count": null,
   "metadata": {},
   "outputs": [
    {
     "name": "stdout",
     "output_type": "stream",
     "text": [
      "epoch:  0\n",
      "training......\n",
      "********************\n",
      "validating after  0 th image:\n",
      "training accuracy:  0.09951287404314545\n",
      "validation accuracy:  0.08888888888888889\n",
      "total accuracy:  0.09833024118738404\n",
      "********************\n",
      "validating after  250 th image:\n",
      "training accuracy:  0.6172581767571329\n",
      "validation accuracy:  0.5666666666666667\n",
      "total accuracy:  0.6116264687693259\n",
      "********************\n",
      "validating after  500 th image:\n",
      "training accuracy:  0.6102992345163535\n",
      "validation accuracy:  0.5\n",
      "total accuracy:  0.5980210265924552\n",
      "********************\n",
      "validating after  750 th image:\n",
      "training accuracy:  0.6207376478775226\n",
      "validation accuracy:  0.5611111111111111\n",
      "total accuracy:  0.614100185528757\n"
     ]
    }
   ],
   "source": [
    "init_weights = np.zeros((len(X_train[0]),10))\n",
    "\n",
    "#w_i,j = w_out,pix\n",
    "weights = train(X_train, y_train, X_val, 0.0008, init_weights, 3)"
   ]
  },
  {
   "cell_type": "markdown",
   "metadata": {},
   "source": [
    "## Validation Testing"
   ]
  },
  {
   "cell_type": "code",
   "execution_count": null,
   "metadata": {},
   "outputs": [],
   "source": [
    "validate(X_train, X_val, weights, 0, len(X_train)+len(X_test))"
   ]
  },
  {
   "cell_type": "markdown",
   "metadata": {},
   "source": [
    "## Final Testing"
   ]
  },
  {
   "cell_type": "code",
   "execution_count": null,
   "metadata": {},
   "outputs": [],
   "source": [
    "accuracy = sim(X_test, weights, len(X_train))\n",
    "print(\"accuracy: \", accuracy)"
   ]
  }
 ],
 "metadata": {
  "kernelspec": {
   "display_name": "Python 3",
   "language": "python",
   "name": "python3"
  },
  "language_info": {
   "codemirror_mode": {
    "name": "ipython",
    "version": 3
   },
   "file_extension": ".py",
   "mimetype": "text/x-python",
   "name": "python",
   "nbconvert_exporter": "python",
   "pygments_lexer": "ipython3",
   "version": "3.6.9"
  }
 },
 "nbformat": 4,
 "nbformat_minor": 2
}
