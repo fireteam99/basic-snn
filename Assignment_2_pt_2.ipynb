{
 "cells": [
  {
   "cell_type": "code",
   "execution_count": 1,
   "metadata": {},
   "outputs": [
    {
     "name": "stdout",
     "output_type": "stream",
     "text": [
      "Requirement already up-to-date: scikit-learn in c:\\users\\mzig2\\anaconda3\\lib\\site-packages (0.23.2)\n",
      "Requirement already satisfied, skipping upgrade: threadpoolctl>=2.0.0 in c:\\users\\mzig2\\anaconda3\\lib\\site-packages (from scikit-learn) (2.1.0)\n",
      "Requirement already satisfied, skipping upgrade: numpy>=1.13.3 in c:\\users\\mzig2\\anaconda3\\lib\\site-packages (from scikit-learn) (1.17.4)\n",
      "Requirement already satisfied, skipping upgrade: joblib>=0.11 in c:\\users\\mzig2\\anaconda3\\lib\\site-packages (from scikit-learn) (0.14.0)\n",
      "Requirement already satisfied, skipping upgrade: scipy>=0.19.1 in c:\\users\\mzig2\\anaconda3\\lib\\site-packages (from scikit-learn) (1.3.1)\n",
      "Note: you may need to restart the kernel to use updated packages.\n"
     ]
    }
   ],
   "source": [
    "pip install -U scikit-learn"
   ]
  },
  {
   "cell_type": "code",
   "execution_count": 2,
   "metadata": {},
   "outputs": [
    {
     "name": "stdout",
     "output_type": "stream",
     "text": [
      "Requirement already satisfied: ipynb in c:\\users\\mzig2\\anaconda3\\lib\\site-packages (0.5.1)\n",
      "Note: you may need to restart the kernel to use updated packages.\n"
     ]
    }
   ],
   "source": [
    "pip install ipynb"
   ]
  },
  {
   "cell_type": "code",
   "execution_count": null,
   "metadata": {},
   "outputs": [],
   "source": [
    "pip install import_ipynb"
   ]
  },
  {
   "cell_type": "code",
   "execution_count": null,
   "metadata": {},
   "outputs": [],
   "source": [
    "import numpy as np\n",
    "import matplotlib.pyplot as plt\n",
    "\n",
    "plt.style.use('ggplot')"
   ]
  },
  {
   "cell_type": "code",
   "execution_count": null,
   "metadata": {},
   "outputs": [],
   "source": [
    "class LIF_Neuron:\n",
    "    def LIF(I, Cm, Rm):\n",
    "        \"\"\"\n",
    "        Runs a LIF simulation on neuron and returns outputted voltage\n",
    "\n",
    "                Parameters:\n",
    "                        I (double[]): A list of input voltages in mV\n",
    "                        Cm (double): The membrane capacitance\n",
    "                        Rm (double): The membrane resistance\n",
    "\n",
    "                Returns:\n",
    "                        V (double[]): A list of the output voltages in mV\n",
    "        \"\"\"\n",
    "        V_thresh = 30\n",
    "        V_rest = -65\n",
    "        V_spike = 80\n",
    "        dT = 0.02  # time step in ms\n",
    "        total_time = (I.size) * dT\n",
    "\n",
    "        # an array of time\n",
    "        time = np.arange(0, total_time, dT)\n",
    "\n",
    "        # default voltage list set to resting volatage of -65mV\n",
    "        V = (-65) * np.ones(len(time))\n",
    "        #V_bin = 0*np.ones(len(time))\n",
    "\n",
    "        did_spike = False\n",
    "\n",
    "        # function member variable to track spikes\n",
    "        LIF.spikes = 0.0\n",
    "\n",
    "        for t in range(len(time)):\n",
    "            # using \"I - V(t)/Rm = Cm * dV/dT\"\n",
    "            dV = (I[t] - (V[t - 1] - V_rest) / Rm) / Cm\n",
    "\n",
    "            # reset membrane potential if neuron spiked last tick\n",
    "            if did_spike:\n",
    "                V[t] = V_rest + dV * dT\n",
    "            else:\n",
    "                V[t] = V[t - 1] + dV * dT\n",
    "\n",
    "            # check if membrane voltage exceeded threshold (spike)\n",
    "            if V[t] > V_thresh:\n",
    "                did_spike = True\n",
    "                #V_bin[t] = 80\n",
    "                # set the last step to spike value\n",
    "                V[t] = V_spike\n",
    "                LIF.spikes += 1\n",
    "            else:\n",
    "                did_spike = False\n",
    "\n",
    "        return V, LIF.spikes\n",
    "    \n",
    "    def generateSpikeRates(input):\n",
    "    \n",
    "        \"\"\"\n",
    "        Encodes input into resulting spike rates for all timesteps in a time frame given input current injected \n",
    "        Parameters:\n",
    "            input: Array of inputs at timesteps t\n",
    "        Returns:\n",
    "            spike_rate: Array of spiking rates at timesteps t\n",
    "        \"\"\"\n",
    "        t = 100\n",
    "        dT = .01\n",
    "        time = np.arange(0, t + dT, dT)\n",
    "\n",
    "        spike_rate = np.empty(input.size).astype(float)\n",
    "        for i in range(input.size):\n",
    "            \"\"\"calculate spike rate for each iteration\"\"\"\n",
    "\n",
    "            I = np.zeros(len(time))\n",
    "            I[0:len(time)] = input[i]\n",
    "\n",
    "            # run LIF simulation\n",
    "            temp, spikes = LIF(I=I, Cm=4, Rm=5)\n",
    "\n",
    "            # calculate the spike rate during the period\n",
    "            spike_rate[i] = spikes / (time[len(time)-1] - time[0] ) * 100\n",
    "\n",
    "        return spike_rate"
   ]
  },
  {
   "cell_type": "code",
   "execution_count": null,
   "metadata": {},
   "outputs": [],
   "source": [
    "from sklearn.datasets import load_digits\n",
    " \n",
    "digits = load_digits()\n",
    "import matplotlib.pyplot as plt \n",
    "plt.matshow(digits.images[1]) \n",
    "plt.show()"
   ]
  },
  {
   "cell_type": "code",
   "execution_count": null,
   "metadata": {},
   "outputs": [],
   "source": [
    "#flattening to 1D arrays\n",
    "#partitioning to training set, testing set, validation set\n",
    "from sklearn.model_selection import train_test_split\n",
    "X_train, X_other, y_train, y_other = train_test_split(digits.data, digits.images, test_size=0.2, shuffle=False)\n",
    "X_test, X_val, y_test, y_val = train_test_split(X_other, y_other, test_size=0.5, shuffle=False)\n",
    "print(\"Numbers to train: \" + str(len(X_train)))\n",
    "print(\"Number of train's target: \" + str(len(y_train)))\n",
    "print(\"Numbers to test: \" + str(len(X_test)))\n",
    "print(\"Number of test's target: \" + str(len(y_test)))\n",
    "print(\"Numbers to validate: \" + str(len(X_val)))\n",
    "print(\"Number of validate's target: \" + str(len(y_val)))\n",
    "\n",
    "X_val[0]"
   ]
  },
  {
   "cell_type": "code",
   "execution_count": null,
   "metadata": {},
   "outputs": [],
   "source": [
    "def poissonEncoding(rates):\n",
    "    \"\"\"\n",
    "    Transforms a 2D array of inputs representing an image into spike train representation utilizing Poisson method of\n",
    "    encoding\n",
    "    \n",
    "    Params:\n",
    "        rates: 2D array of inputs (in this case, pixel intensitiies corresponding to our image)\n",
    "    Returns:\n",
    "        n_rates: Normalized set of input pixel values (represents probabilities of a spike occurring at each dT)\n",
    "        bin_spikes: 2D array of binary values representing timesteps in which spikes occur\n",
    "        p_spikes: 2D array representing pixel intensities of spike train representation for plotting/computation purposes\n",
    "        \n",
    "    \"\"\"\n",
    "    dT = 1\n",
    "    \n",
    "    max = np.amax(rates)\n",
    "    n_rates = (rates*dT)/max\n",
    "    \n",
    "    rand = np.random.uniform(0,1, len(rates))\n",
    "    #print(rand)\n",
    "    #print(n_rates)\n",
    "    bin_spikes = np.zeros(len(rates))\n",
    "    pix_spikes = np.zeros(len(rates))\n",
    "    \n",
    "    for i in range(len(rates)):\n",
    "        if n_rates[i] > rand[i]:\n",
    "            bin_spikes[i] = 1\n",
    "            pix_spikes[i] = max\n",
    "                    \n",
    "    return n_rates, bin_spikes, pix_spikes\n",
    "    "
   ]
  },
  {
   "cell_type": "code",
   "execution_count": null,
   "metadata": {},
   "outputs": [],
   "source": [
    "digits.images[0]"
   ]
  },
  {
   "cell_type": "code",
   "execution_count": null,
   "metadata": {},
   "outputs": [],
   "source": [
    "plt.matshow(np.reshape(X_train[0], (8,8))) \n",
    "n, b, p = poissonEncoding(X_train[0])\n",
    "X_train[0]\n",
    "plt.matshow(p.reshape(8,8))\n",
    "plt.show()\n",
    "\n",
    "len(digits.images)"
   ]
  },
  {
   "cell_type": "markdown",
   "metadata": {},
   "source": [
    " ## GENERAL METHODOLOGY FOR DOING PT 2 I THINK\n",
    " \n",
    " -input = 8x8 image array\n",
    " \n",
    " -initialize weights as 64x10 array of zeros\n",
    " \n",
    "  (weights[52][9] would be the connection between pixel 52 and neuron 9)\n",
    "  \n",
    "  (might also be a good idea to flatten input as 1D array for this reason)\n",
    "  \n",
    " -establish a teacher set (for each # (output neuron), the pixels its most likely going to be correlated to (w_pix_# > 0))\n",
    " \n",
    "  what I'll probably do is I'll run a Poisson encoding on 3 of the same image per number and just use the ones that are most  \n",
    "  likely to get fired off\n",
    " \n",
    " -train the same way\n",
    " \n",
    "  x_out is the binary spike (or the spike intensity who cares)\n",
    "  \n",
    "  y_out is the target intensity\n",
    "  \n",
    "  use the validation set as your teachers?\n",
    "  \n",
    " -use test data to predict\n",
    " \n",
    " if max(output_neuron_rate) = digits.target[i]: prediction correct;\n",
    " else: incorrect"
   ]
  },
  {
   "cell_type": "code",
   "execution_count": null,
   "metadata": {},
   "outputs": [],
   "source": [
    "def train(X, Y, l_rt, init, epochs):\n",
    "    \n",
    "    weights = init\n",
    "    \n",
    "    for i in range(epochs):\n",
    "        print(\"epoch: \", i)\n",
    "        for x in range(len(X)):\n",
    "            \n",
    "            true_index = x % 10\n",
    "            print(\"index: \", x, \" true index: \", true_index)\n",
    "            in_neurons = X[x]\n",
    "            out_neurons = Y[x]\n",
    "            \n",
    "            in_n_rts, in_bins, in_pixs = poissonEncoding(in_neurons)\n",
    "            \n",
    "            print(\"input neurons: \", in_neurons)\n",
    "            \n",
    "            weight_adjs = np.zeros((len(in_neurons),10))\n",
    "            \n",
    "            y_out  = np.zeros((10,len(in_neurons)))\n",
    "            y_out[true_index] = out_neurons.flatten()\n",
    "                        \n",
    "            for pix in range(len(in_neurons)):\n",
    "                for digit in range(10):\n",
    "                   weight_adjs[pix][digit] = l_rt*in_bins[pix]*y_out[digit][pix]\n",
    "                \n",
    "            weights = weights + weight_adjs\n",
    "            print(\"new weights: \", weights)\n",
    "    \n",
    "    return weights.T\n",
    "\n",
    "def predict(test, weights, targ):\n",
    "    \n",
    "    n, spikes, p = poissonEncoding(test)\n",
    "    outs = np.zeros(len(weights))\n",
    "    for i in range(len(weights)):\n",
    "        outs[i] = np.dot(spikes, weights[i])\n",
    "    \n",
    "    prediction = np.argmax(outs)\n",
    "    \n",
    "    print(\"predicted value: \", prediction)\n",
    "    \n",
    "    if (prediction == targ):\n",
    "        return True\n",
    "    else:\n",
    "        return False\n",
    "    \n",
    "\n",
    "    \n",
    "    "
   ]
  },
  {
   "cell_type": "code",
   "execution_count": null,
   "metadata": {},
   "outputs": [],
   "source": [
    "init_weights = np.zeros((len(X_train[0]),10))\n",
    "\n",
    "\n",
    "weights = train(X_train[0:20], y_train[0:20], 0.001, init_weights, 1)"
   ]
  },
  {
   "cell_type": "code",
   "execution_count": null,
   "metadata": {},
   "outputs": [],
   "source": [
    "#w_i,j = w_pix, out\n",
    "weights"
   ]
  },
  {
   "cell_type": "code",
   "execution_count": null,
   "metadata": {},
   "outputs": [],
   "source": [
    "def sim(test, weights):\n",
    "    correct = 0\n",
    "    for i in range(len(test)):\n",
    "        x = predict(test[i], weights, i % 10)\n",
    "        print(\"prediction correct: \", x)\n",
    "        print(\"--------------------------\")\n",
    "        if x:\n",
    "            correct += 1\n",
    "    return correct/len(test)\n",
    "        "
   ]
  },
  {
   "cell_type": "code",
   "execution_count": null,
   "metadata": {},
   "outputs": [],
   "source": [
    "accuracy = sim(X_train[0:20], weights)\n",
    "print(\"accuracy: \", accuracy)"
   ]
  },
  {
   "cell_type": "markdown",
   "metadata": {},
   "source": [
    "### DOESN'T WORK WITH FULL SET BECAUSE TRAINING SET DOESN'T GO IN ORDER PAST INDEX 20\n",
    "### FIX THIS TMRW"
   ]
  }
 ],
 "metadata": {
  "kernelspec": {
   "display_name": "Python 3",
   "language": "python",
   "name": "python3"
  },
  "language_info": {
   "codemirror_mode": {
    "name": "ipython",
    "version": 3
   },
   "file_extension": ".py",
   "mimetype": "text/x-python",
   "name": "python",
   "nbconvert_exporter": "python",
   "pygments_lexer": "ipython3",
   "version": "3.6.9"
  }
 },
 "nbformat": 4,
 "nbformat_minor": 2
}
