{
 "cells": [
  {
   "cell_type": "code",
   "execution_count": 1,
   "metadata": {},
   "outputs": [],
   "source": [
    "import numpy as np\n",
    "import matplotlib.pyplot as plt\n",
    "import random"
   ]
  },
  {
   "cell_type": "markdown",
   "metadata": {},
   "source": [
    "### LIF neuron"
   ]
  },
  {
   "cell_type": "code",
   "execution_count": 2,
   "metadata": {},
   "outputs": [],
   "source": [
    "def LIF(I):\n",
    "    \"\"\"\n",
    "    Runs a LIF simulation on neuron and returns outputted voltage\n",
    "\n",
    "            Parameters:\n",
    "                    I (double[]): A list of input voltages in mV\n",
    "                    Cm (double): The membrane capacitance\n",
    "                    Rm (double): The membrane resistance\n",
    "\n",
    "            Returns:\n",
    "                    V (double[]): A list of the output voltages in mV\n",
    "    \"\"\"\n",
    "    V_thresh = 30\n",
    "    V_rest = -65\n",
    "    V_spike = 80\n",
    "    dT = 0.02  # time step in ms\n",
    "    total_time = (I.size) * dT\n",
    "    Cm=4\n",
    "    Rm=5\n",
    "    \n",
    "    # an array of time\n",
    "    time = np.arange(0, total_time, dT)\n",
    "\n",
    "    # default voltage list set to resting volatage of -65mV\n",
    "    V = (-65) * np.ones(len(time))\n",
    "    #V_bin = 0*np.ones(len(time))\n",
    "\n",
    "    did_spike = False\n",
    "\n",
    "    # function member variable to track spikes\n",
    "    spikes = 0\n",
    "\n",
    "    for t in range(len(time)):\n",
    "        # using \"I - V(t)/Rm = Cm * dV/dT\"\n",
    "        dV = (I[t] - (V[t - 1] - V_rest) / Rm) / Cm\n",
    "\n",
    "        # reset membrane potential if neuron spiked last tick\n",
    "        if did_spike:\n",
    "            V[t] = V_rest + dV * dT\n",
    "        else:\n",
    "            V[t] = V[t - 1] + dV * dT\n",
    "\n",
    "        # check if membrane voltage exceeded threshold (spike)\n",
    "        if V[t] > V_thresh:\n",
    "            did_spike = True\n",
    "            #V_bin[t] = 80\n",
    "            # set the last step to spike value\n",
    "            V[t] = V_spike\n",
    "            spikes += 1\n",
    "        else:\n",
    "            did_spike = False\n",
    "    spike_rate=spikes/100*100\n",
    "    return V,spikes"
   ]
  },
  {
   "cell_type": "markdown",
   "metadata": {},
   "source": [
    "### functions to get spike rate and encode inputs"
   ]
  },
  {
   "cell_type": "code",
   "execution_count": 3,
   "metadata": {},
   "outputs": [],
   "source": [
    "def generateSpikeRates(input):\n",
    "    \n",
    "    \"\"\"\n",
    "    Encodes input into resulting spike rates for all timesteps in a time frame given input current injected \n",
    "    Parameters:\n",
    "        input: Array of inputs at timesteps t\n",
    "    Returns:\n",
    "        spike_rate: Array of spiking rates at timesteps t\n",
    "    \"\"\"\n",
    "    t = 100\n",
    "    dT = .01\n",
    "    time = np.arange(0, t + dT, dT)\n",
    "    if isinstance(input, np.integer):\n",
    "        spike_rate = np.zeros(1)\n",
    "        I = input*np.ones(len(time))\n",
    "        V,spikes=LIF(I=I)\n",
    "        spike_rate[0] = spikes / (time[len(time)-1] - time[0] ) * 100\n",
    "        return spike_rate\n",
    "    spike_rate = np.empty(input.size).astype(float)\n",
    "    for i in range(input.size):\n",
    "        \"\"\"calculate spike rate for each iteration\"\"\"\n",
    "\n",
    "        I = input[i]*np.ones(len(time))\n",
    "\n",
    "        # run LIF simulation\n",
    "        V,spikes=LIF(I=I)\n",
    "\n",
    "        # calculate the spike rate during the period\n",
    "        spike_rate[i] = spikes / (time[len(time)-1] - time[0] ) * 100\n",
    "        \n",
    "    return spike_rate\n",
    "\n",
    "def encodeInputs(inputarray):\n",
    "    \"\"\"\n",
    "    Encodes neuron activity from x and y into rates generated from input current injected at each dT\n",
    "    Parameters:\n",
    "        x: Array of binary values representing x\n",
    "        y: Array of binary values representing y\n",
    "    Returns:\n",
    "        x_out: Inputs of x encoded by their corresponding firing rates\n",
    "        y_out: Inputs of y encoded by their corresponding firing rates\n",
    "    \"\"\"\n",
    "    # example: [1 0 1 0] becomes [107 58 107 58]\n",
    "    one_curr = 107\n",
    "    zero_curr = 58\n",
    "\n",
    "    #encoding for logic\n",
    "    #inputToCurr = lambda t: zero_curr if t == 0 else (one_curr if t == 1 else -1)\n",
    "  \n",
    "    out=inputarray\n",
    "    out=np.multiply(out,one_curr-zero_curr)\n",
    "    out=np.add(out,zero_curr)\n",
    "    \n",
    "    #equation for numbers\n",
    "    #x_in = np.array([inputToCurr(xi) for xi in inputarray])\n",
    "\n",
    "    x_out=np.zeros(inputarray.shape)\n",
    "    #x_out = generateSpikeRates(x_in)\n",
    "    for i in range(len(x_out)):\n",
    "        x_out[i]=generateSpikeRates(out[i])\n",
    "#    y_out = generateSpikeRates(y_in)\n",
    "\n",
    "    return x_out"
   ]
  },
  {
   "cell_type": "markdown",
   "metadata": {},
   "source": [
    "### training function with first Hebbian rule: only increasing weight when both input and output are firing"
   ]
  },
  {
   "cell_type": "code",
   "execution_count": 16,
   "metadata": {},
   "outputs": [],
   "source": [
    "def train(inputs,target,epoch,l_rt):\n",
    "    print(\"---------------training---------------\")\n",
    "    eout = encodeInputs(inputs)\n",
    "    teach = encodeInputs(target)\n",
    "    #inputs=[[0,0], [0,1], [1,0],[1,1]]\n",
    "    #weights[0] = w_x,out; weights[1] = w_y,out\n",
    "    weights = 0*np.ones([len(inputs[0])]).astype(float)\n",
    "    train.accuracy=[]\n",
    "    for epoch in range(epoch):\n",
    "\n",
    "        print(\"epoch: \", epoch)\n",
    "\n",
    "        for i in range(len(inputs)): \n",
    "            for j in range(len(weights)):\n",
    "                weights[j] += l_rt*eout[i][j]*teach[i] #standard Hebb model modified for perceptrons/teacher neuron => Δw=a*v_pre*(target-v_post)\n",
    "        print(\"current weights: \", weights)\n",
    "        \n",
    "        #test 1 inputs for accuracy with 30 trials\n",
    "        num_right=30\n",
    "        num_wrong=0\n",
    "        for i in range(num_right):\n",
    "            test = np.array([random.randint(0,1),random.randint(0,1)])\n",
    "            #count everytime prediction is wrong\n",
    "            pred=predict(test, weights, 30)\n",
    "            num_wrong+=np.abs(target[np.where((inputs == test).all(axis=1))]-pred)  \n",
    "        train.accuracy.append((num_right-num_wrong)/num_right)\n",
    "                \n",
    "    print(\"------------end training--------------\")\n",
    "\n",
    "    return weights"
   ]
  },
  {
   "cell_type": "markdown",
   "metadata": {},
   "source": [
    "### prediction function"
   ]
  },
  {
   "cell_type": "code",
   "execution_count": 21,
   "metadata": {},
   "outputs": [],
   "source": [
    "def predict(input, weights, thresh, one_rt=51, zero_rt=25):\n",
    "    \n",
    "    \n",
    "    p_sum = np.dot(input, weights)\n",
    "    p_rt = generateSpikeRates(np.array([p_sum]))\n",
    "    \n",
    "    #set the floor of the spike rate for the output, so that unless spike rate goes over, output will be 0\n",
    "    one_lo = one_rt - thresh\n",
    "    prediction = 0\n",
    "    if one_lo <= p_rt:\n",
    "        prediction = 1\n",
    "    return prediction"
   ]
  },
  {
   "cell_type": "markdown",
   "metadata": {},
   "source": [
    "### Training"
   ]
  },
  {
   "cell_type": "code",
   "execution_count": 22,
   "metadata": {},
   "outputs": [
    {
     "name": "stdout",
     "output_type": "stream",
     "text": [
      "[25. 51. 51. 51.]\n",
      "[[25. 25.]\n",
      " [25. 51.]\n",
      " [51. 25.]\n",
      " [51. 51.]]\n",
      "---------------training---------------\n",
      "epoch:  0\n",
      "current weights:  [3.9061 3.9061]\n",
      "epoch:  1\n",
      "current weights:  [7.8122 7.8122]\n",
      "epoch:  2\n",
      "current weights:  [11.7183 11.7183]\n",
      "epoch:  3\n",
      "current weights:  [15.6244 15.6244]\n",
      "epoch:  4\n",
      "current weights:  [19.5305 19.5305]\n",
      "epoch:  5\n",
      "current weights:  [23.4366 23.4366]\n",
      "epoch:  6\n",
      "current weights:  [27.3427 27.3427]\n",
      "epoch:  7\n",
      "current weights:  [31.2488 31.2488]\n",
      "epoch:  8\n",
      "current weights:  [35.1549 35.1549]\n",
      "epoch:  9\n",
      "current weights:  [39.061 39.061]\n",
      "epoch:  10\n",
      "current weights:  [42.9671 42.9671]\n",
      "epoch:  11\n",
      "current weights:  [46.8732 46.8732]\n",
      "epoch:  12\n",
      "current weights:  [50.7793 50.7793]\n",
      "epoch:  13\n",
      "current weights:  [54.6854 54.6854]\n",
      "epoch:  14\n",
      "current weights:  [58.5915 58.5915]\n",
      "epoch:  15\n",
      "current weights:  [62.4976 62.4976]\n",
      "epoch:  16\n",
      "current weights:  [66.4037 66.4037]\n",
      "epoch:  17\n",
      "current weights:  [70.3098 70.3098]\n",
      "epoch:  18\n",
      "current weights:  [74.2159 74.2159]\n",
      "epoch:  19\n",
      "current weights:  [78.122 78.122]\n",
      "epoch:  20\n",
      "current weights:  [82.0281 82.0281]\n",
      "epoch:  21\n",
      "current weights:  [85.9342 85.9342]\n",
      "epoch:  22\n",
      "current weights:  [89.8403 89.8403]\n",
      "epoch:  23\n",
      "current weights:  [93.7464 93.7464]\n",
      "epoch:  24\n",
      "current weights:  [97.6525 97.6525]\n",
      "epoch:  25\n",
      "current weights:  [101.5586 101.5586]\n",
      "------------end training--------------\n"
     ]
    }
   ],
   "source": [
    "x=np.array([[0,0], [0,1], [1,0],[1,1]])\n",
    "o_teach = np.array([0,1,1,1])\n",
    "print(encodeInputs(o_teach))\n",
    "print(encodeInputs(x))\n",
    "weights = train(x,o_teach,26,0.00055)\n",
    "# one_curr = 107\n",
    "# zero_curr = 58\n",
    "# out=o_teach\n",
    "# out=np.multiply(out,one_curr-zero_curr)\n",
    "# out=np.add(out,zero_curr)\n",
    "# out\n",
    "#out[1].type\n",
    "# print(isinstance(out[1], np.integer))"
   ]
  },
  {
   "cell_type": "markdown",
   "metadata": {},
   "source": [
    "### Predictions:"
   ]
  },
  {
   "cell_type": "code",
   "execution_count": 23,
   "metadata": {},
   "outputs": [
    {
     "name": "stdout",
     "output_type": "stream",
     "text": [
      "0 1 1 1\n"
     ]
    }
   ],
   "source": [
    "sample1 = np.array([0,0])\n",
    "sample2 = np.array([1,0])\n",
    "sample3 = np.array([0,1])\n",
    "sample4 = np.array([1,1])\n",
    "print(predict(sample1, weights, 5),\n",
    "    predict(sample2, weights, 5),\n",
    "    predict(sample3, weights, 5),\n",
    "    predict(sample4, weights, 5))"
   ]
  },
  {
   "cell_type": "markdown",
   "metadata": {},
   "source": [
    "### Acuracy after each epoch:"
   ]
  },
  {
   "cell_type": "code",
   "execution_count": 26,
   "metadata": {},
   "outputs": [
    {
     "data": {
      "text/plain": [
       "[<matplotlib.lines.Line2D at 0x6d5e164220>]"
      ]
     },
     "execution_count": 26,
     "metadata": {},
     "output_type": "execute_result"
    },
    {
     "data": {
      "image/png": "[encoded data removed]",
      "text/plain": [
       "<Figure size 432x288 with 1 Axes>"
      ]
     },
     "metadata": {
      "needs_background": "light"
     },
     "output_type": "display_data"
    }
   ],
   "source": [
    "a=np.stack(train.accuracy, axis=0)\n",
    "b=np.reshape(a, (26))\n",
    "plt.plot(b)"
   ]
  }
 ],
 "metadata": {
  "kernelspec": {
   "display_name": "Python 3",
   "language": "python",
   "name": "python3"
  },
  "language_info": {
   "codemirror_mode": {
    "name": "ipython",
    "version": 3
   },
   "file_extension": ".py",
   "mimetype": "text/x-python",
   "name": "python",
   "nbconvert_exporter": "python",
   "pygments_lexer": "ipython3",
   "version": "3.8.3"
  }
 },
 "nbformat": 4,
 "nbformat_minor": 4
}
