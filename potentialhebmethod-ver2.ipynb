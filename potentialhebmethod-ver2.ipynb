{
 "cells": [
  {
   "cell_type": "code",
   "execution_count": 1,
   "metadata": {},
   "outputs": [],
   "source": [
    "import numpy as np\n",
    "import matplotlib.pyplot as plt"
   ]
  },
  {
   "cell_type": "code",
   "execution_count": 2,
   "metadata": {},
   "outputs": [],
   "source": [
    "def LIFez(I):\n",
    "    \"\"\"\n",
    "    Runs a LIF simulation on neuron and returns outputted voltage\n",
    "\n",
    "            Parameters:\n",
    "                    I (double[]): mV\n",
    "                    Cm (double): The membrane capacitance\n",
    "                    Rm (double): The membrane resistance\n",
    "\n",
    "            Returns:\n",
    "                    V (double[]): A list of the output voltages in mV\n",
    "    \"\"\"\n",
    "    V_thresh = 30\n",
    "    V_rest = -65\n",
    "    V_spike = 80\n",
    "    Cm=4\n",
    "    Rm=5\n",
    "    \n",
    "    # an array of time\n",
    "    T = 100                      \n",
    "    dT  = 0.02                   \n",
    "    time = np.arange(0, T+dT, dT) \n",
    "    I = np.ones(len(time))*I\n",
    "\n",
    "    # default voltage list set to resting volatage of -65mV\n",
    "    V = (-65) * np.ones(len(time))\n",
    "    #V_bin = 0*np.ones(len(time))\n",
    "\n",
    "    did_spike = False\n",
    "\n",
    "    # function member variable to track spikes\n",
    "    spikes = 0\n",
    "\n",
    "    for t in range(len(time)):\n",
    "        # using \"I - V(t)/Rm = Cm * dV/dT\"\n",
    "        dV = (I[t] - (V[t - 1] - V_rest) / Rm) / Cm\n",
    "\n",
    "        # reset membrane potential if neuron spiked last tick\n",
    "        if did_spike:\n",
    "            V[t] = V_rest + dV * dT\n",
    "        else:\n",
    "            V[t] = V[t - 1] + dV * dT\n",
    "\n",
    "        # check if membrane voltage exceeded threshold (spike)\n",
    "        if V[t] > V_thresh:\n",
    "            did_spike = True\n",
    "            #V_bin[t] = 80\n",
    "            # set the last step to spike value\n",
    "            V[t] = V_spike\n",
    "            spikes += 1\n",
    "        else:\n",
    "            did_spike = False\n",
    "    spike_rate=spikes/100*100\n",
    "    return V,spike_rate"
   ]
  },
  {
   "cell_type": "code",
   "execution_count": 4,
   "metadata": {},
   "outputs": [],
   "source": [
    "def LIF(I):\n",
    "    \"\"\"\n",
    "    Runs a LIF simulation on neuron and returns outputted voltage\n",
    "\n",
    "            Parameters:\n",
    "                    I (double[]): A list of input voltages in mV\n",
    "                    Cm (double): The membrane capacitance\n",
    "                    Rm (double): The membrane resistance\n",
    "\n",
    "            Returns:\n",
    "                    V (double[]): A list of the output voltages in mV\n",
    "    \"\"\"\n",
    "    V_thresh = 30\n",
    "    V_rest = -65\n",
    "    V_spike = 80\n",
    "    dT = 0.02  # time step in ms\n",
    "    total_time = (I.size) * dT\n",
    "    Cm=4\n",
    "    Rm=5\n",
    "    \n",
    "    # an array of time\n",
    "    time = np.arange(0, total_time, dT)\n",
    "\n",
    "    # default voltage list set to resting volatage of -65mV\n",
    "    V = (-65) * np.ones(len(time))\n",
    "    #V_bin = 0*np.ones(len(time))\n",
    "\n",
    "    did_spike = False\n",
    "\n",
    "    # function member variable to track spikes\n",
    "    spikes = 0\n",
    "\n",
    "    for t in range(len(time)):\n",
    "        # using \"I - V(t)/Rm = Cm * dV/dT\"\n",
    "        dV = (I[t] - (V[t - 1] - V_rest) / Rm) / Cm\n",
    "\n",
    "        # reset membrane potential if neuron spiked last tick\n",
    "        if did_spike:\n",
    "            V[t] = V_rest + dV * dT\n",
    "        else:\n",
    "            V[t] = V[t - 1] + dV * dT\n",
    "\n",
    "        # check if membrane voltage exceeded threshold (spike)\n",
    "        if V[t] > V_thresh:\n",
    "            did_spike = True\n",
    "            #V_bin[t] = 80\n",
    "            # set the last step to spike value\n",
    "            V[t] = V_spike\n",
    "            spikes += 1\n",
    "        else:\n",
    "            did_spike = False\n",
    "    spike_rate=spikes/100*100\n",
    "    return V,spikes"
   ]
  },
  {
   "cell_type": "code",
   "execution_count": 5,
   "metadata": {},
   "outputs": [],
   "source": [
    "def spktrain2spks(V):\n",
    "    js=np.zeros(V.size)\n",
    "    for i in range (V.size):\n",
    "        if V[i]==80:\n",
    "            js[i]=80\n",
    "    return js"
   ]
  },
  {
   "cell_type": "code",
   "execution_count": 166,
   "metadata": {},
   "outputs": [],
   "source": [
    "def generateSpikeRates(input):\n",
    "    \n",
    "    \"\"\"\n",
    "    Encodes input into resulting spike rates for all timesteps in a time frame given input current injected \n",
    "    Parameters:\n",
    "        input: Array of inputs at timesteps t\n",
    "    Returns:\n",
    "        spike_rate: Array of spiking rates at timesteps t\n",
    "    \"\"\"\n",
    "    t = 100\n",
    "    dT = .01\n",
    "    time = np.arange(0, t + dT, dT)\n",
    "    if isinstance(input, np.integer):\n",
    "        spike_rate = np.zeros(1)\n",
    "        I = input*np.ones(len(time))\n",
    "        V,spikes=LIF(I=I)\n",
    "        spike_rate[0] = spikes / (time[len(time)-1] - time[0] ) * 100\n",
    "        return spike_rate\n",
    "    spike_rate = np.empty(input.size).astype(float)\n",
    "    for i in range(input.size):\n",
    "        \"\"\"calculate spike rate for each iteration\"\"\"\n",
    "\n",
    "        I = input[i]*np.ones(len(time))\n",
    "\n",
    "        # run LIF simulation\n",
    "        V,spikes=LIF(I=I)\n",
    "\n",
    "        # calculate the spike rate during the period\n",
    "        spike_rate[i] = spikes / (time[len(time)-1] - time[0] ) * 100\n",
    "        \n",
    "    return spike_rate\n",
    "\n",
    "def encodeInputs(inputarray):\n",
    "    \"\"\"\n",
    "    Encodes neuron activity from x and y into rates generated from input current injected at each dT\n",
    "    Parameters:\n",
    "        x: Array of binary values representing x\n",
    "        y: Array of binary values representing y\n",
    "    Returns:\n",
    "        x_out: Inputs of x encoded by their corresponding firing rates\n",
    "        y_out: Inputs of y encoded by their corresponding firing rates\n",
    "    \"\"\"\n",
    "    # example: [1 0 1 0] becomes [107 58 107 58]\n",
    "    one_curr = 107\n",
    "    zero_curr = 58\n",
    "\n",
    "    #encoding for logic\n",
    "    #inputToCurr = lambda t: zero_curr if t == 0 else (one_curr if t == 1 else -1)\n",
    "    \n",
    "    #encoding for black/white\n",
    "    inputToCurr = lambda t: zero_curr if t <= 7 else (one_curr if t >7  else -1)\n",
    "\n",
    "    \n",
    "    out=inputarray\n",
    "    out=np.multiply(out,one_curr-zero_curr)\n",
    "    out=np.add(out,zero_curr)\n",
    "    \n",
    "    #equation for numbers\n",
    "    #x_in = np.array([inputToCurr(xi) for xi in inputarray])\n",
    "\n",
    "    x_out=np.zeros(inputarray.shape)\n",
    "    #x_out = generateSpikeRates(x_in)\n",
    "    for i in range(len(x_out)):\n",
    "        x_out[i]=generateSpikeRates(out[i])\n",
    "#    y_out = generateSpikeRates(y_in)\n",
    "\n",
    "    return x_out"
   ]
  },
  {
   "cell_type": "code",
   "execution_count": 13,
   "metadata": {},
   "outputs": [
    {
     "name": "stdout",
     "output_type": "stream",
     "text": [
      "4\n"
     ]
    }
   ],
   "source": [
    "x_out=encodeInputs([[0,0], [0,1], [1,0],[1,1]])\n",
    "print(len(x_out))\n",
    "# np.zeros([2,4])"
   ]
  },
  {
   "cell_type": "code",
   "execution_count": 123,
   "metadata": {},
   "outputs": [],
   "source": [
    "def train(inputs,target,epoch,l_rt):\n",
    "    print(\"---------------training---------------\")\n",
    "    eout = encodeInputs(inputs)\n",
    "    teach = encodeInputs(target)\n",
    "    #inputs=[[0,0], [0,1], [1,0],[1,1]]\n",
    "    #weights[0] = w_x,out; weights[1] = w_y,out\n",
    "    weights = 0*np.ones([len(inputs[0])]).astype(float)\n",
    "\n",
    "    for epoch in range(epoch):\n",
    "\n",
    "#         o_input = np.dot(inputs, weights) # [w_sum1, w_sum2, w_sum3, w_sum4]\n",
    "        print(\"epoch: \", epoch)\n",
    "\n",
    "#         o_out = generateSpikeRates(o_input) #generates spike rates from corresponding input currents calculated for o_input\n",
    "#         print(\"output firing rates: \\n\", o_out)\n",
    "\n",
    "        for i in range(len(inputs)): \n",
    "            for j in range(len(weights)):\n",
    "                weights[j] += l_rt*eout[i][j]*teach[i] #standard Hebb model modified for perceptrons/teacher neuron => Δw=a*v_pre*(target-v_post)\n",
    "            print(weights)\n",
    "        \n",
    "    print(\"--------------------------------------\")\n",
    "\n",
    "    return weights"
   ]
  },
  {
   "cell_type": "code",
   "execution_count": 21,
   "metadata": {},
   "outputs": [],
   "source": [
    "def predict(input, weights, thresh, one_rt=51, zero_rt=25):\n",
    "    \n",
    "    print(\"input: \", input)\n",
    "    \n",
    "    p_sum = np.dot(input, weights)\n",
    "    p_rt = generateSpikeRates(np.array([p_sum]))\n",
    "    \n",
    "    #zero_lo = zero_rt - thresh\n",
    "    #zero_hi = zero_rt + thresh\n",
    "    \n",
    "    one_lo = one_rt - thresh\n",
    "    one_hi = one_rt + thresh\n",
    "    prediction = 0\n",
    "    if one_lo <= p_rt <= one_hi:\n",
    "        prediction = 1\n",
    "\n",
    "    print(\"predicted value: \", prediction)"
   ]
  },
  {
   "cell_type": "code",
   "execution_count": 167,
   "metadata": {},
   "outputs": [
    {
     "name": "stdout",
     "output_type": "stream",
     "text": [
      "[25. 51. 51. 51.]\n",
      "[[25. 25.]\n",
      " [25. 51.]\n",
      " [51. 25.]\n",
      " [51. 51.]]\n",
      "---------------training---------------\n",
      "epoch:  0\n",
      "[0.34375 0.34375]\n",
      "[1.045  1.7743]\n",
      "[2.47555 2.47555]\n",
      "[3.9061 3.9061]\n",
      "epoch:  1\n",
      "[4.24985 4.24985]\n",
      "[4.9511 5.6804]\n",
      "[6.38165 6.38165]\n",
      "[7.8122 7.8122]\n",
      "epoch:  2\n",
      "[8.15595 8.15595]\n",
      "[8.8572 9.5865]\n",
      "[10.28775 10.28775]\n",
      "[11.7183 11.7183]\n",
      "epoch:  3\n",
      "[12.06205 12.06205]\n",
      "[12.7633 13.4926]\n",
      "[14.19385 14.19385]\n",
      "[15.6244 15.6244]\n",
      "epoch:  4\n",
      "[15.96815 15.96815]\n",
      "[16.6694 17.3987]\n",
      "[18.09995 18.09995]\n",
      "[19.5305 19.5305]\n",
      "epoch:  5\n",
      "[19.87425 19.87425]\n",
      "[20.5755 21.3048]\n",
      "[22.00605 22.00605]\n",
      "[23.4366 23.4366]\n",
      "epoch:  6\n",
      "[23.78035 23.78035]\n",
      "[24.4816 25.2109]\n",
      "[25.91215 25.91215]\n",
      "[27.3427 27.3427]\n",
      "epoch:  7\n",
      "[27.68645 27.68645]\n",
      "[28.3877 29.117 ]\n",
      "[29.81825 29.81825]\n",
      "[31.2488 31.2488]\n",
      "epoch:  8\n",
      "[31.59255 31.59255]\n",
      "[32.2938 33.0231]\n",
      "[33.72435 33.72435]\n",
      "[35.1549 35.1549]\n",
      "epoch:  9\n",
      "[35.49865 35.49865]\n",
      "[36.1999 36.9292]\n",
      "[37.63045 37.63045]\n",
      "[39.061 39.061]\n",
      "epoch:  10\n",
      "[39.40475 39.40475]\n",
      "[40.106  40.8353]\n",
      "[41.53655 41.53655]\n",
      "[42.9671 42.9671]\n",
      "epoch:  11\n",
      "[43.31085 43.31085]\n",
      "[44.0121 44.7414]\n",
      "[45.44265 45.44265]\n",
      "[46.8732 46.8732]\n",
      "epoch:  12\n",
      "[47.21695 47.21695]\n",
      "[47.9182 48.6475]\n",
      "[49.34875 49.34875]\n",
      "[50.7793 50.7793]\n",
      "epoch:  13\n",
      "[51.12305 51.12305]\n",
      "[51.8243 52.5536]\n",
      "[53.25485 53.25485]\n",
      "[54.6854 54.6854]\n",
      "epoch:  14\n",
      "[55.02915 55.02915]\n",
      "[55.7304 56.4597]\n",
      "[57.16095 57.16095]\n",
      "[58.5915 58.5915]\n",
      "epoch:  15\n",
      "[58.93525 58.93525]\n",
      "[59.6365 60.3658]\n",
      "[61.06705 61.06705]\n",
      "[62.4976 62.4976]\n",
      "epoch:  16\n",
      "[62.84135 62.84135]\n",
      "[63.5426 64.2719]\n",
      "[64.97315 64.97315]\n",
      "[66.4037 66.4037]\n",
      "epoch:  17\n",
      "[66.74745 66.74745]\n",
      "[67.4487 68.178 ]\n",
      "[68.87925 68.87925]\n",
      "[70.3098 70.3098]\n",
      "epoch:  18\n",
      "[70.65355 70.65355]\n",
      "[71.3548 72.0841]\n",
      "[72.78535 72.78535]\n",
      "[74.2159 74.2159]\n",
      "epoch:  19\n",
      "[74.55965 74.55965]\n",
      "[75.2609 75.9902]\n",
      "[76.69145 76.69145]\n",
      "[78.122 78.122]\n",
      "--------------------------------------\n"
     ]
    }
   ],
   "source": [
    "x=np.array([[0,0], [0,1], [1,0],[1,1]])\n",
    "o_teach = np.array([0,1,1,1])\n",
    "print(encodeInputs(o_teach))\n",
    "print(encodeInputs(x))\n",
    "weights = train(x,o_teach,20,0.00055)\n",
    "# one_curr = 107\n",
    "# zero_curr = 58\n",
    "# out=o_teach\n",
    "# out=np.multiply(out,one_curr-zero_curr)\n",
    "# out=np.add(out,zero_curr)\n",
    "# out\n",
    "#out[1].type\n",
    "# print(isinstance(out[1], np.integer))"
   ]
  },
  {
   "cell_type": "code",
   "execution_count": 122,
   "metadata": {},
   "outputs": [
    {
     "name": "stdout",
     "output_type": "stream",
     "text": [
      "input:  [0 0]\n",
      "predicted value:  0\n",
      "input:  [1 0]\n",
      "predicted value:  0\n",
      "input:  [0 1]\n",
      "predicted value:  1\n",
      "input:  [1 1]\n",
      "predicted value:  1\n"
     ]
    }
   ],
   "source": [
    "sample1 = np.array([0,0])\n",
    "sample2 = np.array([1,0])\n",
    "sample3 = np.array([0,1])\n",
    "sample4 = np.array([1,1])\n",
    "np.dot(sample2, weights)\n",
    "predict(sample1, weights, 30)\n",
    "predict(sample2, weights, 30)\n",
    "predict(sample3, weights, 30)\n",
    "predict(sample4, weights, 30)"
   ]
  },
  {
   "cell_type": "code",
   "execution_count": 60,
   "metadata": {},
   "outputs": [
    {
     "name": "stdout",
     "output_type": "stream",
     "text": [
      "(1797, 64)\n"
     ]
    }
   ],
   "source": [
    "from sklearn.datasets import load_digits\n",
    " \n",
    "digits = load_digits()\n",
    "print(digits.data.shape)\n",
    "import matplotlib.pyplot as plt "
   ]
  },
  {
   "cell_type": "code",
   "execution_count": 61,
   "metadata": {},
   "outputs": [
    {
     "name": "stdout",
     "output_type": "stream",
     "text": [
      "Numbers to train: 1437\n",
      "Number of train's target: 1437\n",
      "Numbers to test: 180\n",
      "Number of test's target: 180\n",
      "Numbers to validate: 180\n",
      "Number of validate's target: 180\n"
     ]
    }
   ],
   "source": [
    "#flattening to 1D arrays\n",
    "n_samples = len(digits.images)\n",
    "data = digits.images.reshape((n_samples, -1))\n",
    "#partitioning to training set, testing set, validation set\n",
    "from sklearn.model_selection import train_test_split\n",
    "X_train, X_other, y_train, y_other = train_test_split(data, digits.target, test_size=0.2, shuffle=False)\n",
    "X_test, X_val, y_test, y_val = train_test_split(X_other, y_other, test_size=0.5, shuffle=False)\n",
    "print(\"Numbers to train: \" + str(len(X_train)))\n",
    "print(\"Number of train's target: \" + str(len(y_train)))\n",
    "print(\"Numbers to test: \" + str(len(X_test)))\n",
    "print(\"Number of test's target: \" + str(len(y_test)))\n",
    "print(\"Numbers to validate: \" + str(len(X_val)))\n",
    "print(\"Number of validate's target: \" + str(len(y_val)))"
   ]
  },
  {
   "cell_type": "code",
   "execution_count": 142,
   "metadata": {},
   "outputs": [],
   "source": [
    "onlyones=np.zeros([len(y_train)])\n",
    "\n",
    "for i in range(len(y_train)):\n",
    "    if y_train[i]==1:\n",
    "        onlyones[i]=1\n",
    "newx=np.asarray(X_train, dtype=np.float32)\n",
    "teachn=np.asarray(onlyones, dtype=np.float32)\n"
   ]
  },
  {
   "cell_type": "code",
   "execution_count": 161,
   "metadata": {},
   "outputs": [
    {
     "data": {
      "text/plain": [
       "array([ 0.,  0.,  5., 13.,  9.,  1.,  0.,  0.,  0.,  0., 13., 15., 10.,\n",
       "       15.,  5.,  0.,  0.,  3., 15.,  2.,  0., 11.,  8.,  0.,  0.,  4.,\n",
       "       12.,  0.,  0.,  8.,  8.,  0.,  0.,  5.,  8.,  0.,  0.,  9.,  8.,\n",
       "        0.,  0.,  4., 11.,  0.,  1., 12.,  7.,  0.,  0.,  2., 14.,  5.,\n",
       "       10., 12.,  0.,  0.,  0.,  0.,  6., 13., 10.,  0.,  0.,  0.],\n",
       "      dtype=float32)"
      ]
     },
     "execution_count": 161,
     "metadata": {},
     "output_type": "execute_result"
    }
   ],
   "source": [
    "#weights = train(newx[0:5],teachn[0:5],20,0.00055)\n",
    "c=encodeInputs(newx[0])\n",
    "newx[0]\n"
   ]
  },
  {
   "cell_type": "code",
   "execution_count": 162,
   "metadata": {},
   "outputs": [
    {
     "data": {
      "text/plain": [
       "array([25., 25., 25., 51., 51., 25., 25., 25., 25., 25., 51., 51., 51.,\n",
       "       51., 25., 25., 25., 25., 51., 25., 25., 51., 51., 25., 25., 25.,\n",
       "       51., 25., 25., 51., 51., 25., 25., 25., 51., 25., 25., 51., 51.,\n",
       "       25., 25., 25., 51., 25., 25., 51., 25., 25., 25., 25., 51., 25.,\n",
       "       51., 51., 25., 25., 25., 25., 25., 51., 51., 25., 25., 25.])"
      ]
     },
     "execution_count": 162,
     "metadata": {},
     "output_type": "execute_result"
    }
   ],
   "source": [
    "c=encodeInputs(newx[0])\n",
    "newx[0]\n",
    "c"
   ]
  },
  {
   "cell_type": "code",
   "execution_count": 150,
   "metadata": {},
   "outputs": [
    {
     "data": {
      "text/plain": [
       "0"
      ]
     },
     "execution_count": 150,
     "metadata": {},
     "output_type": "execute_result"
    }
   ],
   "source": [
    "y_train[0]"
   ]
  },
  {
   "cell_type": "code",
   "execution_count": null,
   "metadata": {},
   "outputs": [],
   "source": []
  }
 ],
 "metadata": {
  "kernelspec": {
   "display_name": "Python 3",
   "language": "python",
   "name": "python3"
  },
  "language_info": {
   "codemirror_mode": {
    "name": "ipython",
    "version": 3
   },
   "file_extension": ".py",
   "mimetype": "text/x-python",
   "name": "python",
   "nbconvert_exporter": "python",
   "pygments_lexer": "ipython3",
   "version": "3.8.3"
  }
 },
 "nbformat": 4,
 "nbformat_minor": 4
}
