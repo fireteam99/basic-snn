{
 "cells": [
  {
   "cell_type": "code",
   "execution_count": 1,
   "metadata": {},
   "outputs": [
    {
     "name": "stdout",
     "output_type": "stream",
     "text": [
      "Collecting scikit-learn\n",
      "  Downloading scikit_learn-0.23.2-cp38-cp38-win_amd64.whl (6.8 MB)\n",
      "Requirement already satisfied, skipping upgrade: joblib>=0.11 in d:\\anaconda\\lib\\site-packages (from scikit-learn) (0.16.0)\n",
      "Requirement already satisfied, skipping upgrade: threadpoolctl>=2.0.0 in d:\\anaconda\\lib\\site-packages (from scikit-learn) (2.1.0)\n",
      "Requirement already satisfied, skipping upgrade: scipy>=0.19.1 in d:\\anaconda\\lib\\site-packages (from scikit-learn) (1.5.0)Note: you may need to restart the kernel to use updated packages.\n",
      "\n",
      "Requirement already satisfied, skipping upgrade: numpy>=1.13.3 in d:\\anaconda\\lib\\site-packages (from scikit-learn) (1.18.5)\n",
      "Installing collected packages: scikit-learn\n",
      "  Attempting uninstall: scikit-learn\n",
      "    Found existing installation: scikit-learn 0.23.1\n",
      "    Uninstalling scikit-learn-0.23.1:\n",
      "      Successfully uninstalled scikit-learn-0.23.1\n",
      "Successfully installed scikit-learn-0.23.2\n"
     ]
    }
   ],
   "source": [
    "pip install -U scikit-learn"
   ]
  },
  {
   "cell_type": "code",
   "execution_count": 2,
   "metadata": {},
   "outputs": [
    {
     "name": "stdout",
     "output_type": "stream",
     "text": [
      "(1797, 64)\n"
     ]
    },
    {
     "data": {
      "image/png": "[encoded data removed]",
      "text/plain": [
       "<Figure size 288x288 with 1 Axes>"
      ]
     },
     "metadata": {
      "needs_background": "light"
     },
     "output_type": "display_data"
    }
   ],
   "source": [
    "from sklearn.datasets import load_digits\n",
    " \n",
    "digits = load_digits()\n",
    "print(digits.data.shape)\n",
    "import matplotlib.pyplot as plt \n",
    "plt.matshow(digits.images[0]) \n",
    "plt.show() "
   ]
  },
  {
   "cell_type": "code",
   "execution_count": 46,
   "metadata": {},
   "outputs": [
    {
     "name": "stdout",
     "output_type": "stream",
     "text": [
      "Numbers to train: 1437\n",
      "Number of train's target: 1437\n",
      "Numbers to test: 180\n",
      "Number of test's target: 180\n",
      "Numbers to validate: 180\n",
      "Number of validate's target: 180\n"
     ]
    }
   ],
   "source": [
    "#flattening to 1D arrays\n",
    "digits.images[103].flatten()\n",
    "#partitioning to training set, testing set, validation set\n",
    "from sklearn.model_selection import train_test_split\n",
    "X_train, X_other, y_train, y_other = train_test_split(data, digits.target, test_size=0.2, shuffle=False)\n",
    "X_test, X_val, y_test, y_val = train_test_split(X_other, y_other, test_size=0.5, shuffle=False)\n",
    "print(\"Numbers to train: \" + str(len(X_train)))\n",
    "print(\"Number of train's target: \" + str(len(y_train)))\n",
    "print(\"Numbers to test: \" + str(len(X_test)))\n",
    "print(\"Number of test's target: \" + str(len(y_test)))\n",
    "print(\"Numbers to validate: \" + str(len(X_val)))\n",
    "print(\"Number of validate's target: \" + str(len(y_val)))"
   ]
  },
  {
   "cell_type": "code",
   "execution_count": 15,
   "metadata": {},
   "outputs": [
    {
     "data": {
      "text/plain": [
       "2"
      ]
     },
     "execution_count": 15,
     "metadata": {},
     "output_type": "execute_result"
    }
   ],
   "source": [
    "n_samples = len(digits.images)\n",
    "data = digits.images.reshape((n_samples, -1))\n",
    "digits.target[22]"
   ]
  },
  {
   "cell_type": "markdown",
   "metadata": {},
   "source": [
    "### Question 2.2\n",
    "1) Answer: we would have 64 neurons since there are 8*8=64 total pixels, each of them will be an input\n",
    "\n",
    "2) Answer: if all numbers all distributed evenly, we have a 10% chance of guessing the correct number.\n",
    "\n",
    "3) Answer: I would use 3 output neurons for 3 number classification, and 10 output neurons for 10 number classification.\n",
    "\n"
   ]
  },
  {
   "cell_type": "code",
   "execution_count": null,
   "metadata": {},
   "outputs": [],
   "source": []
  }
 ],
 "metadata": {
  "kernelspec": {
   "display_name": "Python 3",
   "language": "python",
   "name": "python3"
  },
  "language_info": {
   "codemirror_mode": {
    "name": "ipython",
    "version": 3
   },
   "file_extension": ".py",
   "mimetype": "text/x-python",
   "name": "python",
   "nbconvert_exporter": "python",
   "pygments_lexer": "ipython3",
   "version": "3.8.3"
  }
 },
 "nbformat": 4,
 "nbformat_minor": 4
}
